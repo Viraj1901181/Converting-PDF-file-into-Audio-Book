{
 "cells": [
  {
   "cell_type": "markdown",
   "metadata": {},
   "source": [
    "# Description - This program converts PDF File into audio file"
   ]
  },
  {
   "cell_type": "markdown",
   "metadata": {},
   "source": [
    "# Import the libraries"
   ]
  },
  {
   "cell_type": "code",
   "execution_count": 1,
   "metadata": {},
   "outputs": [],
   "source": [
    "import pyttsx3\n",
    "import PyPDF2\n",
    "import pdfplumber"
   ]
  },
  {
   "cell_type": "markdown",
   "metadata": {},
   "source": [
    "# Get the File Name & location of the PDF File"
   ]
  },
  {
   "cell_type": "code",
   "execution_count": 2,
   "metadata": {},
   "outputs": [],
   "source": [
    "file = 'C:/Users/Asus/Desktop/sample.pdf' "
   ]
  },
  {
   "cell_type": "markdown",
   "metadata": {},
   "source": [
    "# Create a PDF File Object"
   ]
  },
  {
   "cell_type": "code",
   "execution_count": 3,
   "metadata": {},
   "outputs": [],
   "source": [
    "pdfFileObj = open(file,'rb') "
   ]
  },
  {
   "cell_type": "markdown",
   "metadata": {},
   "source": [
    "# Create a PDF File Reader Object"
   ]
  },
  {
   "cell_type": "code",
   "execution_count": 4,
   "metadata": {},
   "outputs": [],
   "source": [
    "pdfReader = PyPDF2.PdfFileReader(pdfFileObj)"
   ]
  },
  {
   "cell_type": "markdown",
   "metadata": {},
   "source": [
    "# Get the number of Pages"
   ]
  },
  {
   "cell_type": "code",
   "execution_count": 5,
   "metadata": {},
   "outputs": [],
   "source": [
    "pages = pdfReader.numPages"
   ]
  },
  {
   "cell_type": "markdown",
   "metadata": {},
   "source": [
    "# Create a PDFPlumber Object and loop through the number of pages in PDF File"
   ]
  },
  {
   "cell_type": "code",
   "execution_count": 6,
   "metadata": {},
   "outputs": [
    {
     "name": "stdout",
     "output_type": "stream",
     "text": [
      "connection between Great Britain and the employment relationship is sufficiently strong to enable it to \n",
      "be presumed that, although they are working abroad, Parliament must have intended that section 94(1) \n",
      "should apply to them...  The case of those who are truly expatriate because they not only work but also \n",
      "live outside Great Britain requires  an especially  strong  connection  with  Great  Britain and  British \n"
     ]
    }
   ],
   "source": [
    "with pdfplumber.open(file) as pdf:\n",
    "    #loop through the number of pages\n",
    "    for i in range(0,pages):\n",
    "        page = pdf.pages[i]\n",
    "        text = page.extract_text()\n",
    "        print(text)\n",
    "        speaker = pyttsx3.init()\n",
    "        speaker.say(text)\n",
    "        speaker.runAndWait()\n",
    "        "
   ]
  },
  {
   "cell_type": "code",
   "execution_count": 7,
   "metadata": {},
   "outputs": [
    {
     "name": "stdout",
     "output_type": "stream",
     "text": [
      "[<pyttsx3.voice.Voice object at 0x000001D44FFAF490>, <pyttsx3.voice.Voice object at 0x000001D45153D9A0>, <pyttsx3.voice.Voice object at 0x000001D44FF15040>]\n"
     ]
    }
   ],
   "source": [
    "# Setting the voice of audio to male/female\n",
    "voices = speaker.getProperty('voices')\n",
    "print(voices)\n",
    "#changing index, changes voices, 0 for male\n",
    "speaker.setProperty('voice', voices[0].id)\n",
    "#changing index, changes voices, 1 for female\n",
    "speaker.setProperty('voice', voices[1].id)"
   ]
  },
  {
   "cell_type": "code",
   "execution_count": 8,
   "metadata": {},
   "outputs": [
    {
     "name": "stdout",
     "output_type": "stream",
     "text": [
      "1.0\n"
     ]
    }
   ],
   "source": [
    "# Volume\n",
    "volume = speaker.getProperty('volume')\n",
    "print(volume)\n",
    "speaker.setProperty('volume',1.0)"
   ]
  },
  {
   "cell_type": "code",
   "execution_count": 10,
   "metadata": {},
   "outputs": [],
   "source": [
    "# Saving Voice to Audio file:\n",
    "speaker.save_to_file(text, 'audio.mp3')\n",
    "speaker.runAndWait()"
   ]
  }
 ],
 "metadata": {
  "kernelspec": {
   "display_name": "Python 3",
   "language": "python",
   "name": "python3"
  },
  "language_info": {
   "codemirror_mode": {
    "name": "ipython",
    "version": 3
   },
   "file_extension": ".py",
   "mimetype": "text/x-python",
   "name": "python",
   "nbconvert_exporter": "python",
   "pygments_lexer": "ipython3",
   "version": "3.8.3"
  }
 },
 "nbformat": 4,
 "nbformat_minor": 4
}
